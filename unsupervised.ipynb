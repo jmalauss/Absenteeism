{
 "cells": [
  {
   "cell_type": "code",
   "execution_count": null,
   "metadata": {},
   "outputs": [],
   "source": []
  }
 ],
 "metadata": {
  "kernelspec": {
   "display_name": "Python 3.7.6 64-bit",
   "language": "python",
   "name": "python3"
  },
  "language_info": {
   "name": "python",
   "version": "3.7.6"
  },
  "orig_nbformat": 4,
  "vscode": {
   "interpreter": {
    "hash": "724fbeab0e7697b41730d96a195bf9a3632025cca5e32108802b7eae1f5126ed"
   }
  }
 },
 "nbformat": 4,
 "nbformat_minor": 2
}

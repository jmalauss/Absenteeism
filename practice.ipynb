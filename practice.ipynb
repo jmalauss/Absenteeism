{
 "cells": [
  {
   "cell_type": "code",
   "execution_count": null,
   "metadata": {},
   "outputs": [],
   "source": [
    "# Supervised Learning Model:\n",
    "# Is there a difference in absent hours between males and females?\n",
    "\n",
    "# Classification - Module 17 - Logistic Regression - 17.3.2 (Diabetes)\n",
    "# 17.3.3 is an explanation of logistic regression\n",
    "\n",
    "# Features - Variables used to make a prediction - Absent Hours - X\n",
    "# Target - Predicted outcome - Gender - y - labels\n",
    "\n",
    "# We want the model to predict if an employee is male or female based on their AbsentHours - It will most likely NOT be able to do this. There is most likely no relationship between Gender and AbsentHours.\n",
    "\n",
    "# In our classification example, the target variable only has two possible values: whether a person votes \"Yes\" or \"No.\" When the classification model encounters new data, it would attempt to predict whether the votes cast by people will be \"Yes\" or \"No.\"\n",
    "\n",
    "# Gender - Male (0), Female (1)"
   ]
  },
  {
   "cell_type": "code",
   "execution_count": null,
   "metadata": {},
   "outputs": [],
   "source": [
    "# Let's summarize the steps we took to use a logistic regression model:\n",
    "\n",
    "# Create a model with LogisticRegression().\n",
    "# Train the model with model.fit().\n",
    "# Make predictions with model.predict().\n",
    "# Validate the model with accuracy_score()."
   ]
  },
  {
   "cell_type": "code",
   "execution_count": null,
   "metadata": {},
   "outputs": [],
   "source": []
  },
  {
   "cell_type": "code",
   "execution_count": null,
   "metadata": {},
   "outputs": [],
   "source": [
    "from sklearn.model_selection import train_test_split\n",
    "\n",
    "X_train, X_test, y_train, y_test = train_test_split(X, y, random_state=1)"
   ]
  },
  {
   "cell_type": "code",
   "execution_count": null,
   "metadata": {},
   "outputs": [],
   "source": []
  }
 ],
 "metadata": {
  "kernelspec": {
   "display_name": "Python 3.7.6 64-bit",
   "language": "python",
   "name": "python3"
  },
  "language_info": {
   "name": "python",
   "version": "3.7.6"
  },
  "orig_nbformat": 4,
  "vscode": {
   "interpreter": {
    "hash": "724fbeab0e7697b41730d96a195bf9a3632025cca5e32108802b7eae1f5126ed"
   }
  }
 },
 "nbformat": 4,
 "nbformat_minor": 2
}
